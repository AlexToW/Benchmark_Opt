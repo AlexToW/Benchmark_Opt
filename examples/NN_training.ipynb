{
 "cells": [
  {
   "cell_type": "code",
   "execution_count": 5,
   "id": "b9c5c581-a984-4d50-b404-d500a42bdd19",
   "metadata": {},
   "outputs": [
    {
     "name": "stdout",
     "output_type": "stream",
     "text": [
      "Collecting tensorflow\n",
      "  Downloading tensorflow-2.13.0rc0-cp310-cp310-macosx_12_0_arm64.whl (2.0 kB)\n",
      "Collecting tensorflow-macos==2.13.0-rc0\n",
      "  Downloading tensorflow_macos-2.13.0rc0-cp310-cp310-macosx_12_0_arm64.whl (189.3 MB)\n",
      "\u001b[2K     \u001b[90m━━━━━━━━━━━━━━━━━━━━━━━━━━━━━━━━━━━━━━━\u001b[0m \u001b[32m189.3/189.3 MB\u001b[0m \u001b[31m3.7 MB/s\u001b[0m eta \u001b[36m0:00:00\u001b[0m00:01\u001b[0m00:02\u001b[0m\n",
      "\u001b[?25hCollecting tensorboard<2.14,>=2.13\n",
      "  Using cached tensorboard-2.13.0-py3-none-any.whl (5.6 MB)\n",
      "Collecting libclang>=13.0.0\n",
      "  Using cached libclang-16.0.0-py2.py3-none-macosx_11_0_arm64.whl (24.3 MB)\n",
      "Requirement already satisfied: setuptools in /Users/aleksandrtrisin/anaconda3/lib/python3.10/site-packages (from tensorflow-macos==2.13.0-rc0->tensorflow) (65.6.3)\n",
      "Collecting gast<=0.4.0,>=0.2.1\n",
      "  Using cached gast-0.4.0-py3-none-any.whl (9.8 kB)\n",
      "Requirement already satisfied: h5py>=2.9.0 in /Users/aleksandrtrisin/anaconda3/lib/python3.10/site-packages (from tensorflow-macos==2.13.0-rc0->tensorflow) (3.7.0)\n",
      "Collecting tensorflow-estimator<2.14,>=2.13.0rc0\n",
      "  Using cached tensorflow_estimator-2.13.0rc0-py2.py3-none-any.whl (440 kB)\n",
      "Collecting google-pasta>=0.1.1\n",
      "  Using cached google_pasta-0.2.0-py3-none-any.whl (57 kB)\n",
      "Requirement already satisfied: typing-extensions>=3.6.6 in /Users/aleksandrtrisin/anaconda3/lib/python3.10/site-packages (from tensorflow-macos==2.13.0-rc0->tensorflow) (4.5.0)\n",
      "Collecting grpcio<2.0,>=1.24.3\n",
      "  Downloading grpcio-1.54.2-cp310-cp310-macosx_12_0_universal2.whl (8.6 MB)\n",
      "\u001b[2K     \u001b[90m━━━━━━━━━━━━━━━━━━━━━━━━━━━━━━━━━━━━━━━━\u001b[0m \u001b[32m8.6/8.6 MB\u001b[0m \u001b[31m5.2 MB/s\u001b[0m eta \u001b[36m0:00:00\u001b[0m00:01\u001b[0m00:01\u001b[0m\n",
      "\u001b[?25hRequirement already satisfied: termcolor>=1.1.0 in /Users/aleksandrtrisin/anaconda3/lib/python3.10/site-packages (from tensorflow-macos==2.13.0-rc0->tensorflow) (2.3.0)\n",
      "Requirement already satisfied: numpy>=1.22 in /Users/aleksandrtrisin/anaconda3/lib/python3.10/site-packages (from tensorflow-macos==2.13.0-rc0->tensorflow) (1.23.5)\n",
      "Requirement already satisfied: opt-einsum>=2.3.2 in /Users/aleksandrtrisin/anaconda3/lib/python3.10/site-packages (from tensorflow-macos==2.13.0-rc0->tensorflow) (3.3.0)\n",
      "Requirement already satisfied: protobuf!=4.21.0,!=4.21.1,!=4.21.2,!=4.21.3,!=4.21.4,!=4.21.5,<5.0.0dev,>=3.20.3 in /Users/aleksandrtrisin/anaconda3/lib/python3.10/site-packages (from tensorflow-macos==2.13.0-rc0->tensorflow) (4.23.0)\n",
      "Collecting flatbuffers>=23.1.21\n",
      "  Downloading flatbuffers-23.5.9-py2.py3-none-any.whl (26 kB)\n",
      "Collecting astunparse>=1.6.0\n",
      "  Using cached astunparse-1.6.3-py2.py3-none-any.whl (12 kB)\n",
      "Requirement already satisfied: absl-py>=1.0.0 in /Users/aleksandrtrisin/anaconda3/lib/python3.10/site-packages (from tensorflow-macos==2.13.0-rc0->tensorflow) (1.4.0)\n",
      "Collecting keras<2.14,>=2.13.1rc0\n",
      "  Using cached keras-2.13.1rc0-py3-none-any.whl (1.7 MB)\n",
      "Requirement already satisfied: packaging in /Users/aleksandrtrisin/anaconda3/lib/python3.10/site-packages (from tensorflow-macos==2.13.0-rc0->tensorflow) (22.0)\n",
      "Requirement already satisfied: wrapt<1.15,>=1.11.0 in /Users/aleksandrtrisin/anaconda3/lib/python3.10/site-packages (from tensorflow-macos==2.13.0-rc0->tensorflow) (1.14.1)\n",
      "Requirement already satisfied: six>=1.12.0 in /Users/aleksandrtrisin/anaconda3/lib/python3.10/site-packages (from tensorflow-macos==2.13.0-rc0->tensorflow) (1.16.0)\n",
      "Requirement already satisfied: wheel<1.0,>=0.23.0 in /Users/aleksandrtrisin/anaconda3/lib/python3.10/site-packages (from astunparse>=1.6.0->tensorflow-macos==2.13.0-rc0->tensorflow) (0.38.4)\n",
      "Requirement already satisfied: markdown>=2.6.8 in /Users/aleksandrtrisin/anaconda3/lib/python3.10/site-packages (from tensorboard<2.14,>=2.13->tensorflow-macos==2.13.0-rc0->tensorflow) (3.4.1)\n",
      "Requirement already satisfied: requests<3,>=2.21.0 in /Users/aleksandrtrisin/anaconda3/lib/python3.10/site-packages (from tensorboard<2.14,>=2.13->tensorflow-macos==2.13.0-rc0->tensorflow) (2.28.1)\n",
      "Requirement already satisfied: werkzeug>=1.0.1 in /Users/aleksandrtrisin/anaconda3/lib/python3.10/site-packages (from tensorboard<2.14,>=2.13->tensorflow-macos==2.13.0-rc0->tensorflow) (2.2.2)\n",
      "Collecting google-auth-oauthlib<1.1,>=0.5\n",
      "  Using cached google_auth_oauthlib-1.0.0-py2.py3-none-any.whl (18 kB)\n",
      "Collecting google-auth<3,>=1.6.3\n",
      "  Using cached google_auth-2.18.0-py2.py3-none-any.whl (178 kB)\n",
      "Collecting tensorboard-data-server<0.8.0,>=0.7.0\n",
      "  Using cached tensorboard_data_server-0.7.0-py3-none-any.whl (2.4 kB)\n",
      "Collecting rsa<5,>=3.1.4\n",
      "  Using cached rsa-4.9-py3-none-any.whl (34 kB)\n",
      "Requirement already satisfied: pyasn1-modules>=0.2.1 in /Users/aleksandrtrisin/anaconda3/lib/python3.10/site-packages (from google-auth<3,>=1.6.3->tensorboard<2.14,>=2.13->tensorflow-macos==2.13.0-rc0->tensorflow) (0.2.8)\n",
      "Collecting cachetools<6.0,>=2.0.0\n",
      "  Using cached cachetools-5.3.0-py3-none-any.whl (9.3 kB)\n",
      "Requirement already satisfied: urllib3<2.0 in /Users/aleksandrtrisin/anaconda3/lib/python3.10/site-packages (from google-auth<3,>=1.6.3->tensorboard<2.14,>=2.13->tensorflow-macos==2.13.0-rc0->tensorflow) (1.26.14)\n",
      "Collecting requests-oauthlib>=0.7.0\n",
      "  Using cached requests_oauthlib-1.3.1-py2.py3-none-any.whl (23 kB)\n",
      "Requirement already satisfied: idna<4,>=2.5 in /Users/aleksandrtrisin/anaconda3/lib/python3.10/site-packages (from requests<3,>=2.21.0->tensorboard<2.14,>=2.13->tensorflow-macos==2.13.0-rc0->tensorflow) (3.4)\n",
      "Requirement already satisfied: certifi>=2017.4.17 in /Users/aleksandrtrisin/anaconda3/lib/python3.10/site-packages (from requests<3,>=2.21.0->tensorboard<2.14,>=2.13->tensorflow-macos==2.13.0-rc0->tensorflow) (2022.12.7)\n",
      "Requirement already satisfied: charset-normalizer<3,>=2 in /Users/aleksandrtrisin/anaconda3/lib/python3.10/site-packages (from requests<3,>=2.21.0->tensorboard<2.14,>=2.13->tensorflow-macos==2.13.0-rc0->tensorflow) (2.0.4)\n",
      "Requirement already satisfied: MarkupSafe>=2.1.1 in /Users/aleksandrtrisin/anaconda3/lib/python3.10/site-packages (from werkzeug>=1.0.1->tensorboard<2.14,>=2.13->tensorflow-macos==2.13.0-rc0->tensorflow) (2.1.1)\n",
      "Requirement already satisfied: pyasn1<0.5.0,>=0.4.6 in /Users/aleksandrtrisin/anaconda3/lib/python3.10/site-packages (from pyasn1-modules>=0.2.1->google-auth<3,>=1.6.3->tensorboard<2.14,>=2.13->tensorflow-macos==2.13.0-rc0->tensorflow) (0.4.8)\n",
      "Collecting oauthlib>=3.0.0\n",
      "  Using cached oauthlib-3.2.2-py3-none-any.whl (151 kB)\n",
      "Installing collected packages: libclang, flatbuffers, tensorflow-estimator, tensorboard-data-server, rsa, oauthlib, keras, grpcio, google-pasta, gast, cachetools, astunparse, requests-oauthlib, google-auth, google-auth-oauthlib, tensorboard, tensorflow-macos, tensorflow\n",
      "Successfully installed astunparse-1.6.3 cachetools-5.3.0 flatbuffers-23.5.9 gast-0.4.0 google-auth-2.18.0 google-auth-oauthlib-1.0.0 google-pasta-0.2.0 grpcio-1.54.2 keras-2.13.1rc0 libclang-16.0.0 oauthlib-3.2.2 requests-oauthlib-1.3.1 rsa-4.9 tensorboard-2.13.0 tensorboard-data-server-0.7.0 tensorflow-2.13.0rc0 tensorflow-estimator-2.13.0rc0 tensorflow-macos-2.13.0rc0\n"
     ]
    }
   ],
   "source": [
    "!pip install tensorflow --quiet"
   ]
  },
  {
   "cell_type": "code",
   "execution_count": 6,
   "id": "617a2cf1-14e6-4966-8abb-8ea7ac4a462c",
   "metadata": {},
   "outputs": [],
   "source": [
    "!pip install benchmarx==0.0.10 --quiet"
   ]
  },
  {
   "cell_type": "code",
   "execution_count": 7,
   "id": "357f6617-6531-47ff-9823-68edff284c43",
   "metadata": {},
   "outputs": [],
   "source": [
    "from benchmarx import Benchmark, NNBenchmark, Plotter"
   ]
  },
  {
   "cell_type": "code",
   "execution_count": null,
   "id": "813663b1-c0f5-4804-a8f3-fe1da7339a14",
   "metadata": {},
   "outputs": [
    {
     "name": "stdout",
     "output_type": "stream",
     "text": [
      "🤖 Test loss: 2.30, Test accuracy: 16.88\n"
     ]
    },
    {
     "name": "stderr",
     "output_type": "stream",
     "text": [
      "  0%|          | 0/39 [00:00<?, ?it/s]"
     ]
    },
    {
     "name": "stdout",
     "output_type": "stream",
     "text": [
      "🤖 Epoch: 1, Train loss: 2.135, Train accuracy: 24.31\n"
     ]
    },
    {
     "name": "stderr",
     "output_type": "stream",
     "text": [
      "  3%|▎         | 1/39 [00:30<19:29, 30.76s/it]"
     ]
    },
    {
     "name": "stdout",
     "output_type": "stream",
     "text": [
      "🤖 Test loss: 5.33, Test accuracy: 30.91\n",
      "🤖 Epoch: 2, Train loss: 4.337, Train accuracy: 31.88\n"
     ]
    },
    {
     "name": "stderr",
     "output_type": "stream",
     "text": [
      "  5%|▌         | 2/39 [00:55<16:56, 27.48s/it]"
     ]
    },
    {
     "name": "stdout",
     "output_type": "stream",
     "text": [
      "🤖 Test loss: 2.03, Test accuracy: 46.74\n",
      "🤖 Epoch: 3, Train loss: 2.054, Train accuracy: 51.45\n"
     ]
    },
    {
     "name": "stderr",
     "output_type": "stream",
     "text": [
      "  8%|▊         | 3/39 [01:19<15:27, 25.77s/it]"
     ]
    },
    {
     "name": "stdout",
     "output_type": "stream",
     "text": [
      "🤖 Test loss: 1.96, Test accuracy: 60.99\n",
      "🤖 Epoch: 4, Train loss: 1.849, Train accuracy: 55.70\n"
     ]
    },
    {
     "name": "stderr",
     "output_type": "stream",
     "text": [
      " 10%|█         | 4/39 [01:42<14:23, 24.68s/it]"
     ]
    },
    {
     "name": "stdout",
     "output_type": "stream",
     "text": [
      "🤖 Test loss: 1.42, Test accuracy: 57.83\n",
      "🤖 Epoch: 5, Train loss: 1.295, Train accuracy: 61.67\n"
     ]
    },
    {
     "name": "stderr",
     "output_type": "stream",
     "text": [
      " 13%|█▎        | 5/39 [02:05<13:40, 24.14s/it]"
     ]
    },
    {
     "name": "stdout",
     "output_type": "stream",
     "text": [
      "🤖 Test loss: 0.99, Test accuracy: 68.00\n",
      "🤖 Epoch: 6, Train loss: 0.909, Train accuracy: 70.02\n"
     ]
    },
    {
     "name": "stderr",
     "output_type": "stream",
     "text": [
      " 15%|█▌        | 6/39 [02:30<13:19, 24.24s/it]"
     ]
    },
    {
     "name": "stdout",
     "output_type": "stream",
     "text": [
      "🤖 Test loss: 0.82, Test accuracy: 70.63\n",
      "🤖 Epoch: 7, Train loss: 0.775, Train accuracy: 72.05\n"
     ]
    },
    {
     "name": "stderr",
     "output_type": "stream",
     "text": [
      " 18%|█▊        | 7/39 [02:54<12:50, 24.08s/it]"
     ]
    },
    {
     "name": "stdout",
     "output_type": "stream",
     "text": [
      "🤖 Test loss: 0.74, Test accuracy: 73.52\n",
      "🤖 Epoch: 8, Train loss: 0.720, Train accuracy: 74.30\n"
     ]
    },
    {
     "name": "stderr",
     "output_type": "stream",
     "text": [
      " 21%|██        | 8/39 [03:17<12:24, 24.03s/it]"
     ]
    },
    {
     "name": "stdout",
     "output_type": "stream",
     "text": [
      "🤖 Test loss: 0.69, Test accuracy: 74.95\n",
      "🤖 Epoch: 9, Train loss: 0.644, Train accuracy: 76.06\n"
     ]
    },
    {
     "name": "stderr",
     "output_type": "stream",
     "text": [
      " 23%|██▎       | 9/39 [03:41<11:57, 23.92s/it]"
     ]
    },
    {
     "name": "stdout",
     "output_type": "stream",
     "text": [
      "🤖 Test loss: 0.62, Test accuracy: 77.16\n",
      "🤖 Epoch: 10, Train loss: 0.586, Train accuracy: 78.48\n"
     ]
    },
    {
     "name": "stderr",
     "output_type": "stream",
     "text": [
      " 26%|██▌       | 10/39 [04:05<11:28, 23.75s/it]"
     ]
    },
    {
     "name": "stdout",
     "output_type": "stream",
     "text": [
      "🤖 Test loss: 0.58, Test accuracy: 78.76\n",
      "🤖 Epoch: 11, Train loss: 0.549, Train accuracy: 79.67\n"
     ]
    },
    {
     "name": "stderr",
     "output_type": "stream",
     "text": [
      " 28%|██▊       | 11/39 [04:28<11:03, 23.71s/it]"
     ]
    },
    {
     "name": "stdout",
     "output_type": "stream",
     "text": [
      "🤖 Test loss: 0.56, Test accuracy: 79.61\n",
      "🤖 Epoch: 12, Train loss: 0.525, Train accuracy: 81.03\n"
     ]
    },
    {
     "name": "stderr",
     "output_type": "stream",
     "text": [
      " 31%|███       | 12/39 [04:51<10:34, 23.51s/it]"
     ]
    },
    {
     "name": "stdout",
     "output_type": "stream",
     "text": [
      "🤖 Test loss: 0.53, Test accuracy: 80.77\n",
      "🤖 Epoch: 13, Train loss: 0.508, Train accuracy: 81.64\n"
     ]
    },
    {
     "name": "stderr",
     "output_type": "stream",
     "text": [
      " 33%|███▎      | 13/39 [05:17<10:26, 24.11s/it]"
     ]
    },
    {
     "name": "stdout",
     "output_type": "stream",
     "text": [
      "🤖 Test loss: 0.51, Test accuracy: 81.27\n",
      "🤖 Epoch: 14, Train loss: 0.484, Train accuracy: 82.41\n"
     ]
    },
    {
     "name": "stderr",
     "output_type": "stream",
     "text": [
      " 36%|███▌      | 14/39 [05:44<10:23, 24.93s/it]"
     ]
    },
    {
     "name": "stdout",
     "output_type": "stream",
     "text": [
      "🤖 Test loss: 0.50, Test accuracy: 81.54\n",
      "🤖 Epoch: 15, Train loss: 0.470, Train accuracy: 82.95\n"
     ]
    },
    {
     "name": "stderr",
     "output_type": "stream",
     "text": [
      " 38%|███▊      | 15/39 [06:11<10:14, 25.60s/it]"
     ]
    },
    {
     "name": "stdout",
     "output_type": "stream",
     "text": [
      "🤖 Test loss: 0.48, Test accuracy: 82.69\n",
      "🤖 Epoch: 16, Train loss: 0.458, Train accuracy: 83.51\n"
     ]
    },
    {
     "name": "stderr",
     "output_type": "stream",
     "text": [
      " 41%|████      | 16/39 [06:38<10:00, 26.09s/it]"
     ]
    },
    {
     "name": "stdout",
     "output_type": "stream",
     "text": [
      "🤖 Test loss: 0.47, Test accuracy: 83.30\n",
      "🤖 Epoch: 17, Train loss: 0.443, Train accuracy: 84.08\n"
     ]
    },
    {
     "name": "stderr",
     "output_type": "stream",
     "text": [
      " 44%|████▎     | 17/39 [07:03<09:25, 25.72s/it]"
     ]
    },
    {
     "name": "stdout",
     "output_type": "stream",
     "text": [
      "🤖 Test loss: 0.46, Test accuracy: 83.61\n",
      "🤖 Epoch: 18, Train loss: 0.432, Train accuracy: 84.39\n"
     ]
    },
    {
     "name": "stderr",
     "output_type": "stream",
     "text": [
      " 46%|████▌     | 18/39 [07:29<09:05, 25.98s/it]"
     ]
    },
    {
     "name": "stdout",
     "output_type": "stream",
     "text": [
      "🤖 Test loss: 0.44, Test accuracy: 83.81\n",
      "🤖 Epoch: 19, Train loss: 0.422, Train accuracy: 84.84\n"
     ]
    },
    {
     "name": "stderr",
     "output_type": "stream",
     "text": [
      " 49%|████▊     | 19/39 [07:57<08:51, 26.57s/it]"
     ]
    },
    {
     "name": "stdout",
     "output_type": "stream",
     "text": [
      "🤖 Test loss: 0.43, Test accuracy: 84.64\n",
      "🤖 Epoch: 20, Train loss: 0.409, Train accuracy: 85.34\n"
     ]
    },
    {
     "name": "stderr",
     "output_type": "stream",
     "text": [
      " 51%|█████▏    | 20/39 [08:27<08:40, 27.42s/it]"
     ]
    },
    {
     "name": "stdout",
     "output_type": "stream",
     "text": [
      "🤖 Test loss: 0.43, Test accuracy: 84.23\n",
      "🤖 Epoch: 21, Train loss: 0.407, Train accuracy: 85.33\n"
     ]
    },
    {
     "name": "stderr",
     "output_type": "stream",
     "text": [
      " 54%|█████▍    | 21/39 [08:56<08:23, 27.97s/it]"
     ]
    },
    {
     "name": "stdout",
     "output_type": "stream",
     "text": [
      "🤖 Test loss: 0.44, Test accuracy: 84.14\n",
      "🤖 Epoch: 22, Train loss: 0.399, Train accuracy: 85.53\n"
     ]
    },
    {
     "name": "stderr",
     "output_type": "stream",
     "text": [
      " 56%|█████▋    | 22/39 [09:26<08:05, 28.54s/it]"
     ]
    },
    {
     "name": "stdout",
     "output_type": "stream",
     "text": [
      "🤖 Test loss: 0.42, Test accuracy: 84.98\n",
      "🤖 Epoch: 23, Train loss: 0.387, Train accuracy: 85.96\n"
     ]
    },
    {
     "name": "stderr",
     "output_type": "stream",
     "text": [
      " 59%|█████▉    | 23/39 [09:54<07:32, 28.31s/it]"
     ]
    },
    {
     "name": "stdout",
     "output_type": "stream",
     "text": [
      "🤖 Test loss: 0.41, Test accuracy: 85.41\n",
      "🤖 Epoch: 24, Train loss: 0.377, Train accuracy: 86.45\n"
     ]
    },
    {
     "name": "stderr",
     "output_type": "stream",
     "text": [
      " 62%|██████▏   | 24/39 [10:22<07:03, 28.25s/it]"
     ]
    },
    {
     "name": "stdout",
     "output_type": "stream",
     "text": [
      "🤖 Test loss: 0.42, Test accuracy: 84.67\n",
      "🤖 Epoch: 25, Train loss: 0.379, Train accuracy: 86.22\n"
     ]
    },
    {
     "name": "stderr",
     "output_type": "stream",
     "text": [
      " 64%|██████▍   | 25/39 [10:50<06:36, 28.34s/it]"
     ]
    },
    {
     "name": "stdout",
     "output_type": "stream",
     "text": [
      "🤖 Test loss: 0.40, Test accuracy: 85.64\n",
      "🤖 Epoch: 26, Train loss: 0.371, Train accuracy: 86.46\n"
     ]
    },
    {
     "name": "stderr",
     "output_type": "stream",
     "text": [
      " 67%|██████▋   | 26/39 [11:19<06:10, 28.48s/it]"
     ]
    },
    {
     "name": "stdout",
     "output_type": "stream",
     "text": [
      "🤖 Test loss: 0.40, Test accuracy: 85.58\n",
      "🤖 Epoch: 27, Train loss: 0.371, Train accuracy: 86.58\n"
     ]
    },
    {
     "name": "stderr",
     "output_type": "stream",
     "text": [
      " 69%|██████▉   | 27/39 [11:47<05:41, 28.42s/it]"
     ]
    },
    {
     "name": "stdout",
     "output_type": "stream",
     "text": [
      "🤖 Test loss: 0.39, Test accuracy: 85.67\n",
      "🤖 Epoch: 28, Train loss: 0.366, Train accuracy: 86.88\n"
     ]
    },
    {
     "name": "stderr",
     "output_type": "stream",
     "text": [
      " 72%|███████▏  | 28/39 [12:16<05:11, 28.35s/it]"
     ]
    },
    {
     "name": "stdout",
     "output_type": "stream",
     "text": [
      "🤖 Test loss: 0.38, Test accuracy: 86.50\n",
      "🤖 Epoch: 29, Train loss: 0.354, Train accuracy: 87.10\n"
     ]
    },
    {
     "name": "stderr",
     "output_type": "stream",
     "text": [
      " 74%|███████▍  | 29/39 [12:44<04:43, 28.38s/it]"
     ]
    },
    {
     "name": "stdout",
     "output_type": "stream",
     "text": [
      "🤖 Test loss: 0.38, Test accuracy: 86.25\n",
      "🤖 Epoch: 30, Train loss: 0.349, Train accuracy: 87.32\n"
     ]
    },
    {
     "name": "stderr",
     "output_type": "stream",
     "text": [
      " 77%|███████▋  | 30/39 [13:12<04:14, 28.27s/it]"
     ]
    },
    {
     "name": "stdout",
     "output_type": "stream",
     "text": [
      "🤖 Test loss: 0.39, Test accuracy: 85.85\n",
      "🤖 Epoch: 31, Train loss: 0.343, Train accuracy: 87.61\n"
     ]
    },
    {
     "name": "stderr",
     "output_type": "stream",
     "text": [
      " 79%|███████▉  | 31/39 [13:40<03:46, 28.27s/it]"
     ]
    },
    {
     "name": "stdout",
     "output_type": "stream",
     "text": [
      "🤖 Test loss: 0.38, Test accuracy: 86.00\n",
      "🤖 Epoch: 32, Train loss: 0.341, Train accuracy: 87.53\n"
     ]
    },
    {
     "name": "stderr",
     "output_type": "stream",
     "text": [
      " 82%|████████▏ | 32/39 [14:09<03:19, 28.47s/it]"
     ]
    },
    {
     "name": "stdout",
     "output_type": "stream",
     "text": [
      "🤖 Test loss: 0.37, Test accuracy: 86.68\n",
      "🤖 Epoch: 33, Train loss: 0.336, Train accuracy: 87.78\n"
     ]
    },
    {
     "name": "stderr",
     "output_type": "stream",
     "text": [
      " 85%|████████▍ | 33/39 [14:38<02:50, 28.44s/it]"
     ]
    },
    {
     "name": "stdout",
     "output_type": "stream",
     "text": [
      "🤖 Test loss: 0.36, Test accuracy: 87.03\n",
      "🤖 Epoch: 34, Train loss: 0.326, Train accuracy: 88.23\n"
     ]
    },
    {
     "name": "stderr",
     "output_type": "stream",
     "text": [
      " 87%|████████▋ | 34/39 [15:07<02:23, 28.72s/it]"
     ]
    },
    {
     "name": "stdout",
     "output_type": "stream",
     "text": [
      "🤖 Test loss: 0.36, Test accuracy: 86.84\n",
      "🤖 Epoch: 35, Train loss: 0.330, Train accuracy: 88.09\n"
     ]
    },
    {
     "name": "stderr",
     "output_type": "stream",
     "text": [
      " 90%|████████▉ | 35/39 [15:36<01:55, 28.81s/it]"
     ]
    },
    {
     "name": "stdout",
     "output_type": "stream",
     "text": [
      "🤖 Test loss: 0.35, Test accuracy: 87.02\n",
      "🤖 Epoch: 36, Train loss: 0.324, Train accuracy: 88.30\n"
     ]
    },
    {
     "name": "stderr",
     "output_type": "stream",
     "text": [
      " 92%|█████████▏| 36/39 [16:05<01:26, 28.91s/it]"
     ]
    },
    {
     "name": "stdout",
     "output_type": "stream",
     "text": [
      "🤖 Test loss: 0.35, Test accuracy: 87.50\n",
      "🤖 Epoch: 37, Train loss: 0.316, Train accuracy: 88.48\n"
     ]
    },
    {
     "name": "stderr",
     "output_type": "stream",
     "text": [
      " 95%|█████████▍| 37/39 [16:34<00:57, 28.92s/it]"
     ]
    },
    {
     "name": "stdout",
     "output_type": "stream",
     "text": [
      "🤖 Test loss: 0.36, Test accuracy: 86.82\n",
      "🤖 Epoch: 38, Train loss: 0.316, Train accuracy: 88.50\n"
     ]
    },
    {
     "name": "stderr",
     "output_type": "stream",
     "text": [
      " 97%|█████████▋| 38/39 [17:03<00:28, 28.91s/it]"
     ]
    },
    {
     "name": "stdout",
     "output_type": "stream",
     "text": [
      "🤖 Test loss: 0.36, Test accuracy: 86.54\n",
      "🤖 Epoch: 39, Train loss: 0.328, Train accuracy: 87.74\n"
     ]
    },
    {
     "name": "stderr",
     "output_type": "stream",
     "text": [
      "100%|██████████| 39/39 [17:31<00:00, 26.96s/it]"
     ]
    },
    {
     "name": "stdout",
     "output_type": "stream",
     "text": [
      "🤖 Test loss: 0.34, Test accuracy: 87.56\n"
     ]
    },
    {
     "name": "stderr",
     "output_type": "stream",
     "text": [
      "\n"
     ]
    },
    {
     "name": "stdout",
     "output_type": "stream",
     "text": [
      "🤖 Test loss: 2.30, Test accuracy: 16.88\n"
     ]
    },
    {
     "name": "stderr",
     "output_type": "stream",
     "text": [
      "  0%|          | 0/39 [00:00<?, ?it/s]"
     ]
    },
    {
     "name": "stdout",
     "output_type": "stream",
     "text": [
      "🤖 Epoch: 1, Train loss: 2.295, Train accuracy: 17.64\n"
     ]
    },
    {
     "name": "stderr",
     "output_type": "stream",
     "text": [
      "  3%|▎         | 1/39 [00:28<18:19, 28.95s/it]"
     ]
    },
    {
     "name": "stdout",
     "output_type": "stream",
     "text": [
      "🤖 Test loss: 2.27, Test accuracy: 18.56\n",
      "🤖 Epoch: 2, Train loss: 2.266, Train accuracy: 18.96\n"
     ]
    },
    {
     "name": "stderr",
     "output_type": "stream",
     "text": [
      "  5%|▌         | 2/39 [00:57<17:36, 28.55s/it]"
     ]
    },
    {
     "name": "stdout",
     "output_type": "stream",
     "text": [
      "🤖 Test loss: 2.25, Test accuracy: 19.35\n",
      "🤖 Epoch: 3, Train loss: 2.240, Train accuracy: 20.09\n"
     ]
    },
    {
     "name": "stderr",
     "output_type": "stream",
     "text": [
      "  8%|▊         | 3/39 [01:25<17:03, 28.43s/it]"
     ]
    },
    {
     "name": "stdout",
     "output_type": "stream",
     "text": [
      "🤖 Test loss: 2.22, Test accuracy: 20.97\n",
      "🤖 Epoch: 4, Train loss: 2.216, Train accuracy: 21.84\n"
     ]
    },
    {
     "name": "stderr",
     "output_type": "stream",
     "text": [
      " 10%|█         | 4/39 [01:53<16:28, 28.25s/it]"
     ]
    },
    {
     "name": "stdout",
     "output_type": "stream",
     "text": [
      "🤖 Test loss: 2.20, Test accuracy: 23.44\n",
      "🤖 Epoch: 5, Train loss: 2.193, Train accuracy: 24.77\n"
     ]
    },
    {
     "name": "stderr",
     "output_type": "stream",
     "text": [
      " 13%|█▎        | 5/39 [02:22<16:04, 28.38s/it]"
     ]
    },
    {
     "name": "stdout",
     "output_type": "stream",
     "text": [
      "🤖 Test loss: 2.18, Test accuracy: 27.56\n",
      "🤖 Epoch: 6, Train loss: 2.170, Train accuracy: 29.00\n"
     ]
    },
    {
     "name": "stderr",
     "output_type": "stream",
     "text": [
      " 15%|█▌        | 6/39 [02:50<15:37, 28.42s/it]"
     ]
    },
    {
     "name": "stdout",
     "output_type": "stream",
     "text": [
      "🤖 Test loss: 2.15, Test accuracy: 30.48\n",
      "🤖 Epoch: 7, Train loss: 2.148, Train accuracy: 32.06\n"
     ]
    },
    {
     "name": "stderr",
     "output_type": "stream",
     "text": [
      " 18%|█▊        | 7/39 [03:17<14:54, 27.95s/it]"
     ]
    },
    {
     "name": "stdout",
     "output_type": "stream",
     "text": [
      "🤖 Test loss: 2.13, Test accuracy: 33.04\n",
      "🤖 Epoch: 8, Train loss: 2.126, Train accuracy: 34.95\n"
     ]
    },
    {
     "name": "stderr",
     "output_type": "stream",
     "text": [
      " 21%|██        | 8/39 [03:40<13:34, 26.26s/it]"
     ]
    },
    {
     "name": "stdout",
     "output_type": "stream",
     "text": [
      "🤖 Test loss: 2.11, Test accuracy: 35.86\n",
      "🤖 Epoch: 9, Train loss: 2.104, Train accuracy: 37.38\n"
     ]
    },
    {
     "name": "stderr",
     "output_type": "stream",
     "text": [
      " 23%|██▎       | 9/39 [04:02<12:33, 25.11s/it]"
     ]
    },
    {
     "name": "stdout",
     "output_type": "stream",
     "text": [
      "🤖 Test loss: 2.09, Test accuracy: 39.71\n",
      "🤖 Epoch: 10, Train loss: 2.080, Train accuracy: 41.20\n"
     ]
    },
    {
     "name": "stderr",
     "output_type": "stream",
     "text": [
      " 26%|██▌       | 10/39 [04:25<11:45, 24.32s/it]"
     ]
    },
    {
     "name": "stdout",
     "output_type": "stream",
     "text": [
      "🤖 Test loss: 2.06, Test accuracy: 43.97\n",
      "🤖 Epoch: 11, Train loss: 2.057, Train accuracy: 45.70\n"
     ]
    },
    {
     "name": "stderr",
     "output_type": "stream",
     "text": [
      " 28%|██▊       | 11/39 [04:48<11:10, 23.96s/it]"
     ]
    },
    {
     "name": "stdout",
     "output_type": "stream",
     "text": [
      "🤖 Test loss: 2.04, Test accuracy: 47.53\n",
      "🤖 Epoch: 12, Train loss: 2.033, Train accuracy: 48.96\n"
     ]
    },
    {
     "name": "stderr",
     "output_type": "stream",
     "text": [
      " 31%|███       | 12/39 [05:10<10:30, 23.35s/it]"
     ]
    },
    {
     "name": "stdout",
     "output_type": "stream",
     "text": [
      "🤖 Test loss: 2.02, Test accuracy: 50.06\n",
      "🤖 Epoch: 13, Train loss: 2.009, Train accuracy: 51.46\n"
     ]
    },
    {
     "name": "stderr",
     "output_type": "stream",
     "text": [
      " 33%|███▎      | 13/39 [05:32<10:00, 23.09s/it]"
     ]
    },
    {
     "name": "stdout",
     "output_type": "stream",
     "text": [
      "🤖 Test loss: 1.99, Test accuracy: 52.06\n",
      "🤖 Epoch: 14, Train loss: 1.983, Train accuracy: 53.41\n"
     ]
    },
    {
     "name": "stderr",
     "output_type": "stream",
     "text": [
      " 36%|███▌      | 14/39 [05:55<09:33, 22.96s/it]"
     ]
    },
    {
     "name": "stdout",
     "output_type": "stream",
     "text": [
      "🤖 Test loss: 1.96, Test accuracy: 53.54\n",
      "🤖 Epoch: 15, Train loss: 1.957, Train accuracy: 54.95\n"
     ]
    },
    {
     "name": "stderr",
     "output_type": "stream",
     "text": [
      " 38%|███▊      | 15/39 [06:17<09:06, 22.78s/it]"
     ]
    },
    {
     "name": "stdout",
     "output_type": "stream",
     "text": [
      "🤖 Test loss: 1.94, Test accuracy: 54.86\n",
      "🤖 Epoch: 16, Train loss: 1.930, Train accuracy: 56.29\n"
     ]
    },
    {
     "name": "stderr",
     "output_type": "stream",
     "text": [
      " 41%|████      | 16/39 [06:40<08:43, 22.77s/it]"
     ]
    },
    {
     "name": "stdout",
     "output_type": "stream",
     "text": [
      "🤖 Test loss: 1.91, Test accuracy: 56.05\n",
      "🤖 Epoch: 17, Train loss: 1.902, Train accuracy: 57.36\n"
     ]
    },
    {
     "name": "stderr",
     "output_type": "stream",
     "text": [
      " 44%|████▎     | 17/39 [07:03<08:18, 22.67s/it]"
     ]
    },
    {
     "name": "stdout",
     "output_type": "stream",
     "text": [
      "🤖 Test loss: 1.88, Test accuracy: 57.33\n",
      "🤖 Epoch: 18, Train loss: 1.873, Train accuracy: 58.38\n"
     ]
    },
    {
     "name": "stderr",
     "output_type": "stream",
     "text": [
      " 46%|████▌     | 18/39 [07:25<07:54, 22.58s/it]"
     ]
    },
    {
     "name": "stdout",
     "output_type": "stream",
     "text": [
      "🤖 Test loss: 1.85, Test accuracy: 58.33\n",
      "🤖 Epoch: 19, Train loss: 1.842, Train accuracy: 59.19\n"
     ]
    },
    {
     "name": "stderr",
     "output_type": "stream",
     "text": [
      " 49%|████▊     | 19/39 [07:47<07:30, 22.51s/it]"
     ]
    },
    {
     "name": "stdout",
     "output_type": "stream",
     "text": [
      "🤖 Test loss: 1.82, Test accuracy: 59.31\n",
      "🤖 Epoch: 20, Train loss: 1.810, Train accuracy: 60.16\n"
     ]
    },
    {
     "name": "stderr",
     "output_type": "stream",
     "text": [
      " 51%|█████▏    | 20/39 [08:10<07:09, 22.62s/it]"
     ]
    },
    {
     "name": "stdout",
     "output_type": "stream",
     "text": [
      "🤖 Test loss: 1.79, Test accuracy: 60.07\n",
      "🤖 Epoch: 21, Train loss: 1.780, Train accuracy: 60.62\n"
     ]
    },
    {
     "name": "stderr",
     "output_type": "stream",
     "text": [
      " 54%|█████▍    | 21/39 [08:34<06:51, 22.88s/it]"
     ]
    },
    {
     "name": "stdout",
     "output_type": "stream",
     "text": [
      "🤖 Test loss: 1.76, Test accuracy: 60.71\n",
      "🤖 Epoch: 22, Train loss: 1.748, Train accuracy: 61.08\n"
     ]
    },
    {
     "name": "stderr",
     "output_type": "stream",
     "text": [
      " 56%|█████▋    | 22/39 [08:56<06:26, 22.72s/it]"
     ]
    },
    {
     "name": "stdout",
     "output_type": "stream",
     "text": [
      "🤖 Test loss: 1.73, Test accuracy: 61.38\n",
      "🤖 Epoch: 23, Train loss: 1.716, Train accuracy: 61.47\n"
     ]
    },
    {
     "name": "stderr",
     "output_type": "stream",
     "text": [
      " 59%|█████▉    | 23/39 [09:19<06:02, 22.67s/it]"
     ]
    },
    {
     "name": "stdout",
     "output_type": "stream",
     "text": [
      "🤖 Test loss: 1.69, Test accuracy: 61.87\n",
      "🤖 Epoch: 24, Train loss: 1.682, Train accuracy: 62.07\n"
     ]
    },
    {
     "name": "stderr",
     "output_type": "stream",
     "text": [
      " 62%|██████▏   | 24/39 [09:41<05:37, 22.49s/it]"
     ]
    },
    {
     "name": "stdout",
     "output_type": "stream",
     "text": [
      "🤖 Test loss: 1.66, Test accuracy: 62.28\n",
      "🤖 Epoch: 25, Train loss: 1.650, Train accuracy: 62.54\n"
     ]
    },
    {
     "name": "stderr",
     "output_type": "stream",
     "text": [
      " 64%|██████▍   | 25/39 [10:04<05:16, 22.60s/it]"
     ]
    },
    {
     "name": "stdout",
     "output_type": "stream",
     "text": [
      "🤖 Test loss: 1.63, Test accuracy: 62.38\n",
      "🤖 Epoch: 26, Train loss: 1.616, Train accuracy: 62.63\n"
     ]
    },
    {
     "name": "stderr",
     "output_type": "stream",
     "text": [
      " 67%|██████▋   | 26/39 [10:26<04:53, 22.57s/it]"
     ]
    },
    {
     "name": "stdout",
     "output_type": "stream",
     "text": [
      "🤖 Test loss: 1.59, Test accuracy: 62.66\n",
      "🤖 Epoch: 27, Train loss: 1.583, Train accuracy: 62.75\n"
     ]
    },
    {
     "name": "stderr",
     "output_type": "stream",
     "text": [
      " 69%|██████▉   | 27/39 [10:48<04:29, 22.43s/it]"
     ]
    },
    {
     "name": "stdout",
     "output_type": "stream",
     "text": [
      "🤖 Test loss: 1.56, Test accuracy: 62.92\n",
      "🤖 Epoch: 28, Train loss: 1.549, Train accuracy: 63.01\n"
     ]
    },
    {
     "name": "stderr",
     "output_type": "stream",
     "text": [
      " 72%|███████▏  | 28/39 [11:11<04:07, 22.52s/it]"
     ]
    },
    {
     "name": "stdout",
     "output_type": "stream",
     "text": [
      "🤖 Test loss: 1.53, Test accuracy: 63.05\n",
      "🤖 Epoch: 29, Train loss: 1.518, Train accuracy: 63.19\n"
     ]
    },
    {
     "name": "stderr",
     "output_type": "stream",
     "text": [
      " 74%|███████▍  | 29/39 [11:33<03:44, 22.46s/it]"
     ]
    },
    {
     "name": "stdout",
     "output_type": "stream",
     "text": [
      "🤖 Test loss: 1.50, Test accuracy: 63.19\n",
      "🤖 Epoch: 30, Train loss: 1.487, Train accuracy: 63.28\n"
     ]
    },
    {
     "name": "stderr",
     "output_type": "stream",
     "text": [
      " 77%|███████▋  | 30/39 [11:56<03:24, 22.70s/it]"
     ]
    },
    {
     "name": "stdout",
     "output_type": "stream",
     "text": [
      "🤖 Test loss: 1.47, Test accuracy: 63.33\n",
      "🤖 Epoch: 31, Train loss: 1.455, Train accuracy: 63.53\n"
     ]
    },
    {
     "name": "stderr",
     "output_type": "stream",
     "text": [
      " 79%|███████▉  | 31/39 [12:20<03:02, 22.86s/it]"
     ]
    },
    {
     "name": "stdout",
     "output_type": "stream",
     "text": [
      "🤖 Test loss: 1.44, Test accuracy: 63.42\n",
      "🤖 Epoch: 32, Train loss: 1.427, Train accuracy: 63.46\n"
     ]
    },
    {
     "name": "stderr",
     "output_type": "stream",
     "text": [
      " 82%|████████▏ | 32/39 [12:43<02:41, 23.02s/it]"
     ]
    },
    {
     "name": "stdout",
     "output_type": "stream",
     "text": [
      "🤖 Test loss: 1.41, Test accuracy: 63.51\n",
      "🤖 Epoch: 33, Train loss: 1.398, Train accuracy: 63.64\n"
     ]
    },
    {
     "name": "stderr",
     "output_type": "stream",
     "text": [
      " 85%|████████▍ | 33/39 [13:06<02:18, 23.03s/it]"
     ]
    },
    {
     "name": "stdout",
     "output_type": "stream",
     "text": [
      "🤖 Test loss: 1.38, Test accuracy: 63.60\n",
      "🤖 Epoch: 34, Train loss: 1.370, Train accuracy: 63.72\n"
     ]
    },
    {
     "name": "stderr",
     "output_type": "stream",
     "text": [
      " 87%|████████▋ | 34/39 [13:30<01:55, 23.17s/it]"
     ]
    },
    {
     "name": "stdout",
     "output_type": "stream",
     "text": [
      "🤖 Test loss: 1.36, Test accuracy: 63.65\n",
      "🤖 Epoch: 35, Train loss: 1.343, Train accuracy: 63.83\n"
     ]
    },
    {
     "name": "stderr",
     "output_type": "stream",
     "text": [
      " 90%|████████▉ | 35/39 [13:53<01:32, 23.22s/it]"
     ]
    },
    {
     "name": "stdout",
     "output_type": "stream",
     "text": [
      "🤖 Test loss: 1.33, Test accuracy: 63.57\n",
      "🤖 Epoch: 36, Train loss: 1.320, Train accuracy: 63.63\n"
     ]
    },
    {
     "name": "stderr",
     "output_type": "stream",
     "text": [
      " 92%|█████████▏| 36/39 [14:17<01:10, 23.50s/it]"
     ]
    },
    {
     "name": "stdout",
     "output_type": "stream",
     "text": [
      "🤖 Test loss: 1.30, Test accuracy: 63.61\n",
      "🤖 Epoch: 37, Train loss: 1.294, Train accuracy: 63.89\n"
     ]
    },
    {
     "name": "stderr",
     "output_type": "stream",
     "text": [
      " 95%|█████████▍| 37/39 [14:40<00:46, 23.30s/it]"
     ]
    },
    {
     "name": "stdout",
     "output_type": "stream",
     "text": [
      "🤖 Test loss: 1.28, Test accuracy: 63.49\n",
      "🤖 Epoch: 38, Train loss: 1.269, Train accuracy: 63.85\n"
     ]
    },
    {
     "name": "stderr",
     "output_type": "stream",
     "text": [
      " 97%|█████████▋| 38/39 [15:04<00:23, 23.51s/it]"
     ]
    },
    {
     "name": "stdout",
     "output_type": "stream",
     "text": [
      "🤖 Test loss: 1.26, Test accuracy: 63.50\n",
      "🤖 Epoch: 39, Train loss: 1.246, Train accuracy: 63.86\n"
     ]
    },
    {
     "name": "stderr",
     "output_type": "stream",
     "text": [
      "100%|██████████| 39/39 [15:27<00:00, 23.79s/it]"
     ]
    },
    {
     "name": "stdout",
     "output_type": "stream",
     "text": [
      "🤖 Test loss: 1.24, Test accuracy: 63.49\n"
     ]
    },
    {
     "name": "stderr",
     "output_type": "stream",
     "text": [
      "\n"
     ]
    },
    {
     "name": "stdout",
     "output_type": "stream",
     "text": [
      "🤖 Test loss: 2.30, Test accuracy: 16.88\n"
     ]
    },
    {
     "name": "stderr",
     "output_type": "stream",
     "text": [
      "  0%|          | 0/39 [00:00<?, ?it/s]"
     ]
    },
    {
     "name": "stdout",
     "output_type": "stream",
     "text": [
      "🤖 Epoch: 1, Train loss: 2.268, Train accuracy: 18.33\n"
     ]
    },
    {
     "name": "stderr",
     "output_type": "stream",
     "text": [
      "  3%|▎         | 1/39 [00:23<14:46, 23.33s/it]"
     ]
    },
    {
     "name": "stdout",
     "output_type": "stream",
     "text": [
      "🤖 Test loss: 2.18, Test accuracy: 27.79\n",
      "🤖 Epoch: 2, Train loss: 2.153, Train accuracy: 30.87\n"
     ]
    },
    {
     "name": "stderr",
     "output_type": "stream",
     "text": [
      "  5%|▌         | 2/39 [00:46<14:25, 23.40s/it]"
     ]
    },
    {
     "name": "stdout",
     "output_type": "stream",
     "text": [
      "🤖 Test loss: 2.07, Test accuracy: 40.18\n",
      "🤖 Epoch: 3, Train loss: 2.045, Train accuracy: 45.16\n"
     ]
    },
    {
     "name": "stderr",
     "output_type": "stream",
     "text": [
      "  8%|▊         | 3/39 [01:10<14:13, 23.71s/it]"
     ]
    },
    {
     "name": "stdout",
     "output_type": "stream",
     "text": [
      "🤖 Test loss: 1.96, Test accuracy: 53.16\n",
      "🤖 Epoch: 4, Train loss: 1.923, Train accuracy: 55.72\n"
     ]
    },
    {
     "name": "stderr",
     "output_type": "stream",
     "text": [
      " 10%|█         | 4/39 [01:34<13:50, 23.74s/it]"
     ]
    },
    {
     "name": "stdout",
     "output_type": "stream",
     "text": [
      "🤖 Test loss: 1.82, Test accuracy: 59.43\n",
      "🤖 Epoch: 5, Train loss: 1.779, Train accuracy: 60.88\n"
     ]
    },
    {
     "name": "stderr",
     "output_type": "stream",
     "text": [
      " 13%|█▎        | 5/39 [01:59<13:41, 24.17s/it]"
     ]
    },
    {
     "name": "stdout",
     "output_type": "stream",
     "text": [
      "🤖 Test loss: 1.66, Test accuracy: 61.98\n",
      "🤖 Epoch: 6, Train loss: 1.619, Train accuracy: 62.45\n"
     ]
    },
    {
     "name": "stderr",
     "output_type": "stream",
     "text": [
      " 15%|█▌        | 6/39 [02:24<13:28, 24.49s/it]"
     ]
    },
    {
     "name": "stdout",
     "output_type": "stream",
     "text": [
      "🤖 Test loss: 1.50, Test accuracy: 63.48\n",
      "🤖 Epoch: 7, Train loss: 1.462, Train accuracy: 63.41\n"
     ]
    },
    {
     "name": "stderr",
     "output_type": "stream",
     "text": [
      " 18%|█▊        | 7/39 [02:50<13:22, 25.07s/it]"
     ]
    },
    {
     "name": "stdout",
     "output_type": "stream",
     "text": [
      "🤖 Test loss: 1.36, Test accuracy: 62.55\n",
      "🤖 Epoch: 8, Train loss: 1.326, Train accuracy: 63.47\n"
     ]
    },
    {
     "name": "stderr",
     "output_type": "stream",
     "text": [
      " 21%|██        | 8/39 [03:16<13:06, 25.37s/it]"
     ]
    },
    {
     "name": "stdout",
     "output_type": "stream",
     "text": [
      "🤖 Test loss: 1.25, Test accuracy: 61.25\n",
      "🤖 Epoch: 9, Train loss: 1.241, Train accuracy: 59.61\n"
     ]
    },
    {
     "name": "stderr",
     "output_type": "stream",
     "text": [
      " 23%|██▎       | 9/39 [03:43<12:49, 25.64s/it]"
     ]
    },
    {
     "name": "stdout",
     "output_type": "stream",
     "text": [
      "🤖 Test loss: 1.35, Test accuracy: 47.77\n",
      "🤖 Epoch: 10, Train loss: 1.412, Train accuracy: 47.45\n"
     ]
    },
    {
     "name": "stderr",
     "output_type": "stream",
     "text": [
      " 26%|██▌       | 10/39 [04:09<12:29, 25.85s/it]"
     ]
    },
    {
     "name": "stdout",
     "output_type": "stream",
     "text": [
      "🤖 Test loss: 1.48, Test accuracy: 39.31\n",
      "🤖 Epoch: 11, Train loss: 1.382, Train accuracy: 47.81\n"
     ]
    },
    {
     "name": "stderr",
     "output_type": "stream",
     "text": [
      " 28%|██▊       | 11/39 [04:35<12:05, 25.90s/it]"
     ]
    },
    {
     "name": "stdout",
     "output_type": "stream",
     "text": [
      "🤖 Test loss: 1.15, Test accuracy: 60.70\n",
      "🤖 Epoch: 12, Train loss: 1.150, Train accuracy: 60.74\n"
     ]
    },
    {
     "name": "stderr",
     "output_type": "stream",
     "text": [
      " 31%|███       | 12/39 [05:02<11:46, 26.16s/it]"
     ]
    },
    {
     "name": "stdout",
     "output_type": "stream",
     "text": [
      "🤖 Test loss: 1.31, Test accuracy: 61.23\n",
      "🤖 Epoch: 13, Train loss: 1.258, Train accuracy: 62.35\n"
     ]
    },
    {
     "name": "stderr",
     "output_type": "stream",
     "text": [
      " 33%|███▎      | 13/39 [05:28<11:21, 26.20s/it]"
     ]
    },
    {
     "name": "stdout",
     "output_type": "stream",
     "text": [
      "🤖 Test loss: 1.12, Test accuracy: 61.60\n",
      "🤖 Epoch: 14, Train loss: 1.089, Train accuracy: 61.27\n"
     ]
    },
    {
     "name": "stderr",
     "output_type": "stream",
     "text": [
      " 36%|███▌      | 14/39 [05:53<10:48, 25.95s/it]"
     ]
    },
    {
     "name": "stdout",
     "output_type": "stream",
     "text": [
      "🤖 Test loss: 1.07, Test accuracy: 60.19\n",
      "🤖 Epoch: 15, Train loss: 1.090, Train accuracy: 58.07\n"
     ]
    },
    {
     "name": "stderr",
     "output_type": "stream",
     "text": [
      " 38%|███▊      | 15/39 [06:20<10:23, 26.00s/it]"
     ]
    },
    {
     "name": "stdout",
     "output_type": "stream",
     "text": [
      "🤖 Test loss: 1.16, Test accuracy: 58.54\n",
      "🤖 Epoch: 16, Train loss: 1.152, Train accuracy: 58.08\n"
     ]
    },
    {
     "name": "stderr",
     "output_type": "stream",
     "text": [
      " 41%|████      | 16/39 [06:46<09:59, 26.07s/it]"
     ]
    },
    {
     "name": "stdout",
     "output_type": "stream",
     "text": [
      "🤖 Test loss: 1.11, Test accuracy: 59.03\n",
      "🤖 Epoch: 17, Train loss: 1.048, Train accuracy: 60.93\n"
     ]
    },
    {
     "name": "stderr",
     "output_type": "stream",
     "text": [
      " 44%|████▎     | 17/39 [07:12<09:31, 25.97s/it]"
     ]
    },
    {
     "name": "stdout",
     "output_type": "stream",
     "text": [
      "🤖 Test loss: 1.07, Test accuracy: 60.87\n",
      "🤖 Epoch: 18, Train loss: 1.053, Train accuracy: 63.23\n"
     ]
    },
    {
     "name": "stderr",
     "output_type": "stream",
     "text": [
      " 46%|████▌     | 18/39 [07:38<09:06, 26.04s/it]"
     ]
    },
    {
     "name": "stdout",
     "output_type": "stream",
     "text": [
      "🤖 Test loss: 1.10, Test accuracy: 63.14\n",
      "🤖 Epoch: 19, Train loss: 1.033, Train accuracy: 63.89\n"
     ]
    },
    {
     "name": "stderr",
     "output_type": "stream",
     "text": [
      " 49%|████▊     | 19/39 [08:03<08:36, 25.85s/it]"
     ]
    },
    {
     "name": "stdout",
     "output_type": "stream",
     "text": [
      "🤖 Test loss: 1.03, Test accuracy: 62.54\n",
      "🤖 Epoch: 20, Train loss: 1.018, Train accuracy: 62.79\n"
     ]
    },
    {
     "name": "stderr",
     "output_type": "stream",
     "text": [
      " 51%|█████▏    | 20/39 [08:28<08:06, 25.63s/it]"
     ]
    },
    {
     "name": "stdout",
     "output_type": "stream",
     "text": [
      "🤖 Test loss: 1.07, Test accuracy: 58.16\n",
      "🤖 Epoch: 21, Train loss: 1.018, Train accuracy: 60.69\n"
     ]
    },
    {
     "name": "stderr",
     "output_type": "stream",
     "text": [
      " 54%|█████▍    | 21/39 [08:54<07:42, 25.68s/it]"
     ]
    },
    {
     "name": "stdout",
     "output_type": "stream",
     "text": [
      "🤖 Test loss: 0.97, Test accuracy: 61.96\n",
      "🤖 Epoch: 22, Train loss: 0.943, Train accuracy: 64.18\n"
     ]
    },
    {
     "name": "stderr",
     "output_type": "stream",
     "text": [
      " 56%|█████▋    | 22/39 [09:20<07:18, 25.77s/it]"
     ]
    },
    {
     "name": "stdout",
     "output_type": "stream",
     "text": [
      "🤖 Test loss: 0.97, Test accuracy: 59.74\n",
      "🤖 Epoch: 23, Train loss: 1.011, Train accuracy: 62.77\n"
     ]
    },
    {
     "name": "stderr",
     "output_type": "stream",
     "text": [
      " 59%|█████▉    | 23/39 [09:46<06:53, 25.85s/it]"
     ]
    },
    {
     "name": "stdout",
     "output_type": "stream",
     "text": [
      "🤖 Test loss: 1.14, Test accuracy: 55.33\n",
      "🤖 Epoch: 24, Train loss: 1.182, Train accuracy: 56.92\n"
     ]
    },
    {
     "name": "stderr",
     "output_type": "stream",
     "text": [
      " 62%|██████▏   | 24/39 [10:10<06:20, 25.39s/it]"
     ]
    },
    {
     "name": "stdout",
     "output_type": "stream",
     "text": [
      "🤖 Test loss: 1.02, Test accuracy: 59.20\n",
      "🤖 Epoch: 25, Train loss: 0.971, Train accuracy: 63.41\n"
     ]
    },
    {
     "name": "stderr",
     "output_type": "stream",
     "text": [
      " 64%|██████▍   | 25/39 [10:35<05:53, 25.25s/it]"
     ]
    },
    {
     "name": "stdout",
     "output_type": "stream",
     "text": [
      "🤖 Test loss: 0.92, Test accuracy: 65.30\n",
      "🤖 Epoch: 26, Train loss: 0.913, Train accuracy: 65.78\n"
     ]
    },
    {
     "name": "stderr",
     "output_type": "stream",
     "text": [
      " 67%|██████▋   | 26/39 [11:00<05:27, 25.22s/it]"
     ]
    },
    {
     "name": "stdout",
     "output_type": "stream",
     "text": [
      "🤖 Test loss: 0.97, Test accuracy: 64.31\n",
      "🤖 Epoch: 27, Train loss: 0.952, Train accuracy: 65.58\n"
     ]
    },
    {
     "name": "stderr",
     "output_type": "stream",
     "text": [
      " 69%|██████▉   | 27/39 [11:25<05:01, 25.11s/it]"
     ]
    },
    {
     "name": "stdout",
     "output_type": "stream",
     "text": [
      "🤖 Test loss: 0.93, Test accuracy: 64.97\n",
      "🤖 Epoch: 28, Train loss: 0.897, Train accuracy: 66.15\n"
     ]
    },
    {
     "name": "stderr",
     "output_type": "stream",
     "text": [
      " 72%|███████▏  | 28/39 [11:50<04:35, 25.06s/it]"
     ]
    },
    {
     "name": "stdout",
     "output_type": "stream",
     "text": [
      "🤖 Test loss: 0.89, Test accuracy: 66.17\n",
      "🤖 Epoch: 29, Train loss: 0.864, Train accuracy: 67.25\n"
     ]
    },
    {
     "name": "stderr",
     "output_type": "stream",
     "text": [
      " 74%|███████▍  | 29/39 [12:16<04:13, 25.34s/it]"
     ]
    },
    {
     "name": "stdout",
     "output_type": "stream",
     "text": [
      "🤖 Test loss: 0.87, Test accuracy: 66.97\n",
      "🤖 Epoch: 30, Train loss: 0.854, Train accuracy: 67.49\n"
     ]
    },
    {
     "name": "stderr",
     "output_type": "stream",
     "text": [
      " 77%|███████▋  | 30/39 [12:42<03:49, 25.49s/it]"
     ]
    },
    {
     "name": "stdout",
     "output_type": "stream",
     "text": [
      "🤖 Test loss: 0.86, Test accuracy: 67.03\n"
     ]
    }
   ],
   "source": [
    "bencmark = NNBenchmark({\n",
    "    'adam' : {\n",
    "        \"N_EPOCHS\": 40,\n",
    "        \"BATCH_SIZE\": 25000,\n",
    "        \"Dataset\": \"FashionMNIST\",\n",
    "        \"seed\": 282,\n",
    "        \"LEARNING_RATE\": 1e-2,\n",
    "        'method': 'adam'\n",
    "    },\n",
    "    'sgd_1' : {\n",
    "        \"N_EPOCHS\": 40,\n",
    "        \"BATCH_SIZE\": 25000,\n",
    "        \"Dataset\": \"FashionMNIST\",\n",
    "        \"seed\": 282,\n",
    "        \"LEARNING_RATE\": 1e-2,\n",
    "        'method': 'sgd'\n",
    "    },\n",
    "    'sgd_2' : {\n",
    "        \"N_EPOCHS\": 40,\n",
    "        \"BATCH_SIZE\": 25000,\n",
    "        \"Dataset\": \"FashionMNIST\",\n",
    "        \"seed\": 282,\n",
    "        \"LEARNING_RATE\": 0.05,\n",
    "        'method': 'sgd'\n",
    "    }\n",
    "})\n",
    "\n",
    "path_to_save = 'model_data.json'\n",
    "bencmark.run(save=True, path=path_to_save)"
   ]
  },
  {
   "cell_type": "code",
   "execution_count": null,
   "id": "4a82db14-6248-4986-8c83-3d9170e604c4",
   "metadata": {},
   "outputs": [],
   "source": []
  }
 ],
 "metadata": {
  "kernelspec": {
   "display_name": "Python 3 (ipykernel)",
   "language": "python",
   "name": "python3"
  },
  "language_info": {
   "codemirror_mode": {
    "name": "ipython",
    "version": 3
   },
   "file_extension": ".py",
   "mimetype": "text/x-python",
   "name": "python",
   "nbconvert_exporter": "python",
   "pygments_lexer": "ipython3",
   "version": "3.10.9"
  }
 },
 "nbformat": 4,
 "nbformat_minor": 5
}
