{
 "cells": [
  {
   "cell_type": "code",
   "execution_count": 97,
   "id": "cc75ca1d-5d30-4107-b6dc-7d0e3163bc6a",
   "metadata": {},
   "outputs": [],
   "source": [
    "# imports\n",
    "import jax\n",
    "from jaxopt import GradientDescent\n",
    "import numpy as np\n",
    "\n",
    "from defaults import *\n",
    "from solver_runner import run_solver"
   ]
  },
  {
   "cell_type": "code",
   "execution_count": 98,
   "id": "8ff88209",
   "metadata": {},
   "outputs": [],
   "source": [
    "class QuadraticProblem:\n",
    "    \"\"\"\n",
    "    A class describing an unconstrained quadratic problem:\n",
    "    0.5 x^TAx^T + b^Tx, where the matrix A is positive defined, x \\in R^n\n",
    "    \"\"\"\n",
    "    n: int = 1           # problem dimensionality\n",
    "    A = None             # A-matrix: np.array of shape (n,n)\n",
    "    b = None             # b-vector: np.array of shape (n,) \n",
    "    def __init__(self, n: int = 2, A = None, b = None):\n",
    "        np.random.seed(default_seed)\n",
    "        self.n = n\n",
    "        if A is None:\n",
    "            self.A = self.__get_random_matrix(self.n)\n",
    "        else:\n",
    "            self.A = A\n",
    "        if b is None:\n",
    "            self.b = self.__get_random_vector(self.n)\n",
    "        else:\n",
    "            self.b = b\n",
    "        \n",
    "    \n",
    "    def f(self, x):\n",
    "        \"\"\"\n",
    "        Target function\n",
    "        x: np.array of shape (n, )\n",
    "        return: float\n",
    "        \"\"\"\n",
    "        return 0.5 * x.T @ self.A @ x + self.b.T @ x\n",
    "    \n",
    "    def grad_f(self, x):\n",
    "        \"\"\"\n",
    "        Gradient of target function\n",
    "        x: np.array of shape (n,)\n",
    "        return: np.array of shape (n,)\n",
    "        \"\"\"\n",
    "        return self.A.T @ x + self.b\n",
    "    \n",
    "    def fun(self, x):\n",
    "        \"\"\"\n",
    "        x: np.array of shape (n,)\n",
    "        return: tuple (f(x), grad_f(x))\n",
    "        \"\"\"\n",
    "        return (self.f(x), self.grad_f(x))\n",
    "    \n",
    "    def __get_random_matrix(self, n: int = 2):\n",
    "        \"\"\"\n",
    "        Returns a positive defined matrix of size (n, n)\n",
    "        \"\"\"\n",
    "        B = np.random.rand(n, n)\n",
    "        while np.linalg.det(B) == 0:\n",
    "            B = np.random.rand(n, n)\n",
    "        return B.T @ B\n",
    "\n",
    "    def __get_random_vector(self, n: int = 2):\n",
    "        \"\"\"\n",
    "        Returns a random vector: np.array of shape (n,)\n",
    "        \"\"\"\n",
    "        return np.random.rand(n)"
   ]
  },
  {
   "cell_type": "code",
   "execution_count": 99,
   "id": "8a9e1b21",
   "metadata": {},
   "outputs": [
    {
     "name": "stdout",
     "output_type": "stream",
     "text": [
      "[[0.67609655 0.62907433]\n",
      " [0.62907433 0.58994988]] [0.37223648 0.0304395 ]\n"
     ]
    }
   ],
   "source": [
    "n = 2\n",
    "qp = QuadraticProblem(n=n)\n",
    "#print(qp.f(np.array([1., 1.])))\n",
    "print(qp.A, qp.b)"
   ]
  },
  {
   "cell_type": "code",
   "execution_count": 117,
   "id": "cc9e4c29",
   "metadata": {},
   "outputs": [],
   "source": [
    "class Benchmark:\n",
    "    \"\"\"\n",
    "    A class that provides the benchmarking of different optimization methods on a quadratic problem (convex).\n",
    "    \"\"\"\n",
    "    x_init = None              # initial point: np.array of shape (n,)\n",
    "    def __init__(self, problem: QuadraticProblem = None, x_init = None):\n",
    "        if problem is None:\n",
    "            self.problem = QuadraticProblem(n=default_dimensionality)\n",
    "        else:\n",
    "            self.problem = problem\n",
    "        \n",
    "        if x_init is None:\n",
    "            self.x_init = np.random.rand(problem.n)\n",
    "        else:\n",
    "            self.x_init = x_init\n",
    "        \n",
    "    \n",
    "    def compare_via_nit(self):\n",
    "        \"\"\"\n",
    "        Return: dict{key : value}\n",
    "        key (str): the name of method\n",
    "        value (int): number of iterations\n",
    "        \"\"\"\n",
    "        # test for Gradient Descent with constant stepsize\n",
    "        const_stepsize = 1e-2\n",
    "        max_iters = 4000\n",
    "        tolerance = 1e-4\n",
    "        result = dict()\n",
    "        gd = GradientDescent(\n",
    "            fun=self.problem.fun,\n",
    "            value_and_grad=True,\n",
    "            has_aux=False,\n",
    "            stepsize=const_stepsize,\n",
    "            maxiter=max_iters,\n",
    "            tol=tolerance,\n",
    "            acceleration=False,\n",
    "            verbose=0,\n",
    "            implicit_diff=False\n",
    "        )\n",
    "        trajectory, errors = run_solver(gd, self.x_init)\n",
    "        d = dict()\n",
    "        d['GradientDescent'] = trajectory.shape[0]\n",
    "        return d\n",
    "    \n",
    "    def compare_via_nfev(self):\n",
    "        \"\"\"\n",
    "        Return: dict{key : value}\n",
    "        key (str): the name of method\n",
    "        value (int): number of function calls\n",
    "        \"\"\"\n",
    "        pass\n",
    "    \n",
    "    def compare_via_njev(self):\n",
    "        \"\"\"\n",
    "        Return: dict{key : value}\n",
    "        key (str): the name of method\n",
    "        value (int): number of gradient calls in this function\n",
    "        \"\"\"\n",
    "        pass\n",
    "    \n",
    "    def comapre_via_time(self):\n",
    "        \"\"\"\n",
    "        Return: dict{key : value}\n",
    "        key (str): name of the method\n",
    "        value (float): method's running time\n",
    "        \"\"\""
   ]
  },
  {
   "cell_type": "code",
   "execution_count": 118,
   "id": "8952d733",
   "metadata": {},
   "outputs": [
    {
     "name": "stdout",
     "output_type": "stream",
     "text": [
      "{'GradientDescent': 4000}\n"
     ]
    },
    {
     "data": {
      "text/plain": [
       "\"\\nparams, state = gd.run(self.x_init)\\nprint(f'params: {params}')\\nprint(f'state: {state}')\\n\""
      ]
     },
     "execution_count": 118,
     "metadata": {},
     "output_type": "execute_result"
    }
   ],
   "source": [
    "n = 2\n",
    "qp = QuadraticProblem(n=n)\n",
    "x_init = np.array([1, 10])\n",
    "benchmark = Benchmark(problem=qp, x_init=x_init)\n",
    "print(benchmark.compare_via_nit())\n",
    "\"\"\"\n",
    "params, state = gd.run(self.x_init)\n",
    "print(f'params: {params}')\n",
    "print(f'state: {state}')\n",
    "\"\"\""
   ]
  },
  {
   "cell_type": "code",
   "execution_count": null,
   "id": "a9056b87",
   "metadata": {},
   "outputs": [],
   "source": []
  },
  {
   "cell_type": "code",
   "execution_count": null,
   "id": "782c81a2",
   "metadata": {},
   "outputs": [],
   "source": []
  }
 ],
 "metadata": {
  "kernelspec": {
   "display_name": "Python 3 (ipykernel)",
   "language": "python",
   "name": "python3"
  },
  "language_info": {
   "codemirror_mode": {
    "name": "ipython",
    "version": 3
   },
   "file_extension": ".py",
   "mimetype": "text/x-python",
   "name": "python",
   "nbconvert_exporter": "python",
   "pygments_lexer": "ipython3",
   "version": "3.9.13"
  }
 },
 "nbformat": 4,
 "nbformat_minor": 5
}
