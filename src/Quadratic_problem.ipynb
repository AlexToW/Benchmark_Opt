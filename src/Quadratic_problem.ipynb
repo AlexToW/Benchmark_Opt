{
 "cells": [
  {
   "cell_type": "code",
   "execution_count": 17,
   "id": "cc75ca1d-5d30-4107-b6dc-7d0e3163bc6a",
   "metadata": {},
   "outputs": [],
   "source": [
    "# imports\n",
    "import jax\n",
    "import numpy as np\n",
    "\n",
    "from defaults import default_seed"
   ]
  },
  {
   "cell_type": "code",
   "execution_count": 18,
   "id": "b58ee47f",
   "metadata": {},
   "outputs": [],
   "source": [
    "class QuadraticProblem:\n",
    "    \"\"\"\n",
    "    A class describing an unconstrained quadratic problem:\n",
    "    0.5 x^TAx^T + b^Tx, where the matrix A is non-negative defined, x \\in R^n\n",
    "    \"\"\"\n",
    "    n: int = 1           # problem dimensionality\n",
    "    A = None             # A-matrix: np.array of shape (n,n)\n",
    "    b = None             # b-vector: np.array of shape (n,) \n",
    "    def __init__(self, n: int = 2, A = None, b = None):\n",
    "        np.random.seed(default_seed)\n",
    "        self.n = n\n",
    "        if A is None:\n",
    "            self.A = self.__get_random_matrix(self.n)\n",
    "        else:\n",
    "            self.A = A\n",
    "        if b is None:\n",
    "            self.b = self.__get_random_vector(self.n)\n",
    "        else:\n",
    "            self.b = b\n",
    "        \n",
    "    \n",
    "    def f(self, x):\n",
    "        \"\"\"\n",
    "        Target function\n",
    "        x: np.array of shape (n, )\n",
    "        return: float\n",
    "        \"\"\"\n",
    "        return 0.5 * x.T @ self.A @ self.x + self.b.T @ x\n",
    "    \n",
    "    \n",
    "    def __get_random_matrix(self, n: int = 2):\n",
    "        \"\"\"\n",
    "        Returns a non-negative defined matrix of size (n, n)\n",
    "        \"\"\"\n",
    "        B = np.random.rand(n, n)\n",
    "        return B.T @ B\n",
    "    \n",
    "    def __get_random_vector(self, n: int = 2):\n",
    "        \"\"\"\n",
    "        Returns a random vector: np.array of shape (n,)\n",
    "        \"\"\"\n",
    "        return np.random.rand(n)"
   ]
  },
  {
   "cell_type": "code",
   "execution_count": 21,
   "id": "fafa703c",
   "metadata": {},
   "outputs": [
    {
     "name": "stdout",
     "output_type": "stream",
     "text": [
      "[[0.67609655 0.62907433]\n",
      " [0.62907433 0.58994988]] [0.37223648 0.0304395 ]\n"
     ]
    }
   ],
   "source": [
    "n = 2\n",
    "qp = QuadraticProblem(n=n)\n",
    "print(qp.A, qp.b)"
   ]
  },
  {
   "cell_type": "code",
   "execution_count": null,
   "id": "3bee454d",
   "metadata": {},
   "outputs": [],
   "source": [
    "class Benchmark:\n",
    "    \"\"\"\n",
    "    A class that provides the benchmarking of different optimization methods on a quadratic problem (convex).\n",
    "    \"\"\"\n",
    "    def __init__(self):\n",
    "        pass\n",
    "    "
   ]
  }
 ],
 "metadata": {
  "kernelspec": {
   "display_name": "Python 3 (ipykernel)",
   "language": "python",
   "name": "python3"
  },
  "language_info": {
   "codemirror_mode": {
    "name": "ipython",
    "version": 3
   },
   "file_extension": ".py",
   "mimetype": "text/x-python",
   "name": "python",
   "nbconvert_exporter": "python",
   "pygments_lexer": "ipython3",
   "version": "3.9.13"
  }
 },
 "nbformat": 4,
 "nbformat_minor": 5
}
