{
 "cells": [
  {
   "cell_type": "code",
   "execution_count": 17,
   "id": "cc75ca1d-5d30-4107-b6dc-7d0e3163bc6a",
   "metadata": {},
   "outputs": [],
   "source": [
    "# imports\n",
    "import jax\n",
    "import numpy as np\n",
    "from typing import Callable\n",
    "from defaults import default_seed"
   ]
  },
  {
   "cell_type": "code",
   "execution_count": 18,
   "id": "302dd2ee",
   "metadata": {},
   "outputs": [],
   "source": [
    "class QuadraticProblem:\n",
    "    \"\"\"\n",
    "    A class describing an unconstrained quadratic problem:\n",
    "    0.5 x^TAx^T + b^Tx, where the matrix A is non-negative defined, x \\in R^n\n",
    "    \"\"\"\n",
    "    n: int = 1           # problem dimensionality\n",
    "    A = None             # A-matrix: np.array of shape (n,n)\n",
    "    b = None             # b-vector: np.array of shape (n,) \n",
    "    def __init__(self, n: int = 2, A = None, b = None):\n",
    "        np.random.seed(default_seed)\n",
    "        self.n = n\n",
    "        if A is None:\n",
    "            self.A = self.__get_random_matrix(self.n)\n",
    "        else:\n",
    "            self.A = A\n",
    "        if b is None:\n",
    "            self.b = self.__get_random_vector(self.n)\n",
    "        else:\n",
    "            self.b = b\n",
    "        \n",
    "    \n",
    "    def f(self, x):\n",
    "        \"\"\"\n",
    "        Target function\n",
    "        x: np.array of shape (n, )\n",
    "        return: float\n",
    "        \"\"\"\n",
    "        return 0.5 * x.T @ self.A @ self.x + self.b.T @ x\n",
    "    \n",
    "    \n",
    "    def __get_random_matrix(self, n: int = 2):\n",
    "        \"\"\"\n",
    "        Returns a non-negative defined matrix of size (n, n)\n",
    "        \"\"\"\n",
    "        B = np.random.rand(n, n)\n",
    "        return B.T @ B\n",
    "    \n",
    "    def __get_random_vector(self, n: int = 2):\n",
    "        \"\"\"\n",
    "        Returns a random vector: np.array of shape (n,)\n",
    "        \"\"\"\n",
    "        return np.random.rand(n)"
   ]
  },
  {
   "cell_type": "code",
   "execution_count": 21,
   "id": "aaab4fe3",
   "metadata": {},
   "outputs": [
    {
     "name": "stdout",
     "output_type": "stream",
     "text": [
      "[[0.67609655 0.62907433]\n",
      " [0.62907433 0.58994988]] [0.37223648 0.0304395 ]\n"
     ]
    }
   ],
   "source": [
    "n = 2\n",
    "qp = QuadraticProblem(n=n)\n",
    "print(qp.A, qp.b)"
   ]
  },
  {
   "cell_type": "code",
   "execution_count": 22,
   "id": "e88066ee",
   "metadata": {},
   "outputs": [
    {
     "ename": "NameError",
     "evalue": "name 'Callable' is not defined",
     "output_type": "error",
     "traceback": [
      "\u001b[0;31m---------------------------------------------------------------------------\u001b[0m",
      "\u001b[0;31mNameError\u001b[0m                                 Traceback (most recent call last)",
      "\u001b[0;32m/var/folders/_r/t85dq7jj6jg_5kwdmq2f3_f00000gn/T/ipykernel_18752/730839477.py\u001b[0m in \u001b[0;36m<module>\u001b[0;34m\u001b[0m\n\u001b[0;32m----> 1\u001b[0;31m \u001b[0;32mclass\u001b[0m \u001b[0mBenchmark\u001b[0m\u001b[0;34m:\u001b[0m\u001b[0;34m\u001b[0m\u001b[0;34m\u001b[0m\u001b[0m\n\u001b[0m\u001b[1;32m      2\u001b[0m     \"\"\"\n\u001b[1;32m      3\u001b[0m     \u001b[0mA\u001b[0m \u001b[0;32mclass\u001b[0m \u001b[0mthat\u001b[0m \u001b[0mprovides\u001b[0m \u001b[0mthe\u001b[0m \u001b[0mbenchmarking\u001b[0m \u001b[0mof\u001b[0m \u001b[0mdifferent\u001b[0m \u001b[0moptimization\u001b[0m \u001b[0mmethods\u001b[0m \u001b[0mon\u001b[0m \u001b[0ma\u001b[0m \u001b[0mquadratic\u001b[0m \u001b[0mproblem\u001b[0m \u001b[0;34m(\u001b[0m\u001b[0mconvex\u001b[0m\u001b[0;34m)\u001b[0m\u001b[0;34m.\u001b[0m\u001b[0;34m\u001b[0m\u001b[0;34m\u001b[0m\u001b[0m\n\u001b[1;32m      4\u001b[0m     \"\"\"\n\u001b[1;32m      5\u001b[0m     \u001b[0;32mdef\u001b[0m \u001b[0m__init__\u001b[0m\u001b[0;34m(\u001b[0m\u001b[0mself\u001b[0m\u001b[0;34m,\u001b[0m \u001b[0mtarget_function\u001b[0m\u001b[0;34m:\u001b[0m \u001b[0mCallable\u001b[0m \u001b[0;34m=\u001b[0m \u001b[0;32mNone\u001b[0m\u001b[0;34m)\u001b[0m\u001b[0;34m:\u001b[0m\u001b[0;34m\u001b[0m\u001b[0;34m\u001b[0m\u001b[0m\n",
      "\u001b[0;32m/var/folders/_r/t85dq7jj6jg_5kwdmq2f3_f00000gn/T/ipykernel_18752/730839477.py\u001b[0m in \u001b[0;36mBenchmark\u001b[0;34m()\u001b[0m\n\u001b[1;32m      3\u001b[0m     \u001b[0mA\u001b[0m \u001b[0;32mclass\u001b[0m \u001b[0mthat\u001b[0m \u001b[0mprovides\u001b[0m \u001b[0mthe\u001b[0m \u001b[0mbenchmarking\u001b[0m \u001b[0mof\u001b[0m \u001b[0mdifferent\u001b[0m \u001b[0moptimization\u001b[0m \u001b[0mmethods\u001b[0m \u001b[0mon\u001b[0m \u001b[0ma\u001b[0m \u001b[0mquadratic\u001b[0m \u001b[0mproblem\u001b[0m \u001b[0;34m(\u001b[0m\u001b[0mconvex\u001b[0m\u001b[0;34m)\u001b[0m\u001b[0;34m.\u001b[0m\u001b[0;34m\u001b[0m\u001b[0;34m\u001b[0m\u001b[0m\n\u001b[1;32m      4\u001b[0m     \"\"\"\n\u001b[0;32m----> 5\u001b[0;31m     \u001b[0;32mdef\u001b[0m \u001b[0m__init__\u001b[0m\u001b[0;34m(\u001b[0m\u001b[0mself\u001b[0m\u001b[0;34m,\u001b[0m \u001b[0mtarget_function\u001b[0m\u001b[0;34m:\u001b[0m \u001b[0mCallable\u001b[0m \u001b[0;34m=\u001b[0m \u001b[0;32mNone\u001b[0m\u001b[0;34m)\u001b[0m\u001b[0;34m:\u001b[0m\u001b[0;34m\u001b[0m\u001b[0;34m\u001b[0m\u001b[0m\n\u001b[0m\u001b[1;32m      6\u001b[0m         \u001b[0;32mpass\u001b[0m\u001b[0;34m\u001b[0m\u001b[0;34m\u001b[0m\u001b[0m\n\u001b[1;32m      7\u001b[0m \u001b[0;34m\u001b[0m\u001b[0m\n",
      "\u001b[0;31mNameError\u001b[0m: name 'Callable' is not defined"
     ]
    }
   ],
   "source": [
    "class Benchmark:\n",
    "    \"\"\"\n",
    "    A class that provides the benchmarking of different optimization methods on a quadratic problem (convex).\n",
    "    \"\"\"\n",
    "    def __init__(self, target_function: Callable = None):\n",
    "        pass\n",
    "    \n",
    "    def compare_via_nit(self):\n",
    "        \"\"\"\n",
    "        Return: dict:{key : value}:  \n",
    "        key (str): the name of method\n",
    "        value (int): number of iterations\n",
    "        \"\"\"\n",
    "        pass\n",
    "    \n",
    "    def compare_via_nfev(self):\n",
    "        \"\"\"\n",
    "        Return: dict:{key : value}:\n",
    "        key (str): the name of method\n",
    "        value (int): number of function calls\n",
    "        \"\"\"\n",
    "        pass\n",
    "    \n",
    "    def compare_via_njev(self):\n",
    "        \"\"\"\n",
    "        Return: dict:{key : value}:  \n",
    "        key (str): the name of method\n",
    "        value (int): number of gradient calls in this function\n",
    "        \"\"\"\n",
    "        pass\n",
    "    \n",
    "    def comapre_via_time(self):\n",
    "        \"\"\"\n",
    "        Return: dict{key : value}\n",
    "        key (str): name of the method\n",
    "        value (float): method's running time\n",
    "        \"\"\""
   ]
  },
  {
   "cell_type": "code",
   "execution_count": null,
   "id": "ddb9aaf7",
   "metadata": {},
   "outputs": [],
   "source": []
  }
 ],
 "metadata": {
  "kernelspec": {
   "display_name": "Python 3 (ipykernel)",
   "language": "python",
   "name": "python3"
  },
  "language_info": {
   "codemirror_mode": {
    "name": "ipython",
    "version": 3
   },
   "file_extension": ".py",
   "mimetype": "text/x-python",
   "name": "python",
   "nbconvert_exporter": "python",
   "pygments_lexer": "ipython3",
   "version": "3.9.13"
  }
 },
 "nbformat": 4,
 "nbformat_minor": 5
}
